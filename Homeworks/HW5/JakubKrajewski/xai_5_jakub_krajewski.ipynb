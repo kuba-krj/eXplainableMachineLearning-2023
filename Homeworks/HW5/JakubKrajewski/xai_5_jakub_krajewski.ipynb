{
  "cells": [
    {
      "cell_type": "markdown",
      "metadata": {
        "id": "k5943DJPLYCD"
      },
      "source": [
        "# Comments"
      ]
    },
    {
      "cell_type": "markdown",
      "metadata": {
        "id": "YKX_VJgPLbvD"
      },
      "source": [
        "## Part 2"
      ]
    },
    {
      "cell_type": "markdown",
      "metadata": {
        "id": "w9t7LB13W0sq"
      },
      "source": [
        "We can see that variable importances are not the same across the models. As a general pattern, feature **cp** is the most important, however for RidgeClassifier it's very similar to **cp**. Interestingly, importances differ also between models from the same class, but with different hyperparameters (number of estimators in the forest model). In general, different variable importances mean that models attend to different parts of the dataset. This result is understandable, because particular models can focus on various patterns in the dataset. \n"
      ]
    },
    {
      "cell_type": "markdown",
      "metadata": {},
      "source": [
        "![Alt text](plot_2_1.png)"
      ]
    },
    {
      "cell_type": "markdown",
      "metadata": {},
      "source": [
        "![Alt text](plot_2_2.png)"
      ]
    },
    {
      "cell_type": "markdown",
      "metadata": {},
      "source": [
        "![Alt text](plot_2_3.png)"
      ]
    },
    {
      "cell_type": "markdown",
      "metadata": {},
      "source": [
        "![Alt text](plot_2_4.png)"
      ]
    },
    {
      "cell_type": "markdown",
      "metadata": {
        "id": "I2cTBYJoW4bk"
      },
      "source": [
        "## Part 3A"
      ]
    },
    {
      "cell_type": "markdown",
      "metadata": {
        "id": "0gvXPXmhXFZL"
      },
      "source": [
        "Even though **cp** is still the most important feature in this comparison, we can see significant differences to the previous approach. We can observe that the feature **thalachh** is now on the second place (more important than **caa**, while previously it was in the group of less important features."
      ]
    },
    {
      "cell_type": "markdown",
      "metadata": {},
      "source": [
        "![Alt text](plot_3_1.png)"
      ]
    },
    {
      "cell_type": "markdown",
      "metadata": {
        "id": "Dqc2NjZ5amGy"
      },
      "source": [
        "## Part 3B"
      ]
    },
    {
      "cell_type": "markdown",
      "metadata": {
        "id": "PEwPUJRXdtHa"
      },
      "source": [
        "Again, we can see that there are some differences between the current calculation and both of the previous ones. For example, the **thall** feature seems to be more important in the current approach. The differences show us that calculating feature importances is generally a complex problem. One of the difficulties is that we can measure impact of a feature on the result in different ways. Even though intuitively we can understand the idea of feature importances, it's crucial to make sure that the chosen method of explaining corresponds with what are we interested in."
      ]
    },
    {
      "cell_type": "markdown",
      "metadata": {},
      "source": [
        "![Alt text](plot_3_2.png)"
      ]
    },
    {
      "cell_type": "markdown",
      "metadata": {
        "id": "IEkOh562XJQH"
      },
      "source": [
        "# Appendix"
      ]
    },
    {
      "cell_type": "code",
      "execution_count": 2,
      "metadata": {
        "colab": {
          "base_uri": "https://localhost:8080/"
        },
        "id": "PZ3-lSNtNnsq",
        "outputId": "f1965f59-2fd5-496c-b239-37341bcee542"
      },
      "outputs": [
        {
          "name": "stdout",
          "output_type": "stream",
          "text": [
            "Preparation of a new explainer is initiated\n",
            "\n",
            "  -> data              : 100 rows 13 cols\n",
            "  -> target variable   : Parameter 'y' was a pandas.Series. Converted to a numpy.ndarray.\n",
            "  -> target variable   : 100 values\n",
            "  -> model_class       : sklearn.ensemble._gb.GradientBoostingClassifier (default)\n",
            "  -> label             : Not specified, model's class short name will be used. (default)\n",
            "  -> predict function  : <function yhat_proba_default at 0x7f47eaa7fd00> will be used (default)\n",
            "  -> predict function  : Accepts pandas.DataFrame and numpy.ndarray.\n",
            "  -> predicted values  : min = 0.00189, mean = 0.631, max = 0.997\n",
            "  -> model type        : classification will be used (default)\n",
            "  -> residual function : difference between y and yhat (default)\n",
            "  -> residuals         : min = -0.995, mean = -0.0506, max = 0.952\n",
            "  -> model_info        : package sklearn\n",
            "\n",
            "A new explainer has been created!\n",
            "Preparation of a new explainer is initiated\n",
            "\n",
            "  -> data              : 100 rows 13 cols\n",
            "  -> target variable   : Parameter 'y' was a pandas.Series. Converted to a numpy.ndarray.\n",
            "  -> target variable   : 100 values\n",
            "  -> model_class       : sklearn.ensemble._forest.RandomForestClassifier (default)\n",
            "  -> label             : Not specified, model's class short name will be used. (default)\n",
            "  -> predict function  : <function yhat_proba_default at 0x7f47eaa7fd00> will be used (default)\n",
            "  -> predict function  : Accepts pandas.DataFrame and numpy.ndarray.\n",
            "  -> predicted values  : min = 0.0, mean = 0.583, max = 1.0\n",
            "  -> model type        : classification will be used (default)\n",
            "  -> residual function : difference between y and yhat (default)\n",
            "  -> residuals         : min = -1.0, mean = -0.0031, max = 0.84\n",
            "  -> model_info        : package sklearn\n",
            "\n",
            "A new explainer has been created!\n",
            "Preparation of a new explainer is initiated\n",
            "\n",
            "  -> data              : 100 rows 13 cols\n",
            "  -> target variable   : Parameter 'y' was a pandas.Series. Converted to a numpy.ndarray.\n",
            "  -> target variable   : 100 values\n",
            "  -> model_class       : sklearn.ensemble._forest.RandomForestClassifier (default)\n",
            "  -> label             : Not specified, model's class short name will be used. (default)\n",
            "  -> predict function  : <function yhat_proba_default at 0x7f47eaa7fd00> will be used (default)\n",
            "  -> predict function  : Accepts pandas.DataFrame and numpy.ndarray.\n",
            "  -> predicted values  : min = 0.0, mean = 0.597, max = 1.0\n",
            "  -> model type        : classification will be used (default)\n",
            "  -> residual function : difference between y and yhat (default)\n",
            "  -> residuals         : min = -1.0, mean = -0.0165, max = 0.8\n",
            "  -> model_info        : package sklearn\n",
            "\n",
            "A new explainer has been created!\n",
            "Preparation of a new explainer is initiated\n",
            "\n",
            "  -> data              : 100 rows 13 cols\n",
            "  -> target variable   : Parameter 'y' was a pandas.Series. Converted to a numpy.ndarray.\n",
            "  -> target variable   : 100 values\n",
            "  -> model_class       : sklearn.linear_model._ridge.RidgeClassifier (default)\n",
            "  -> label             : Not specified, model's class short name will be used. (default)\n",
            "  -> predict function  : <function yhat_default at 0x7f47eaa7fc70> will be used (default)\n",
            "  -> predict function  : Accepts pandas.DataFrame and numpy.ndarray.\n",
            "  -> predicted values  : min = 0.0, mean = 0.66, max = 1.0\n",
            "  -> model type        : classification will be used (default)\n",
            "  -> residual function : difference between y and yhat (default)\n",
            "  -> residuals         : min = -1.0, mean = -0.08, max = 1.0\n",
            "  -> model_info        : package sklearn\n",
            "\n",
            "A new explainer has been created!\n"
          ]
        },
        {
          "name": "stderr",
          "output_type": "stream",
          "text": [
            "X does not have valid feature names, but GradientBoostingClassifier was fitted with feature names\n",
            "X does not have valid feature names, but RandomForestClassifier was fitted with feature names\n",
            "X does not have valid feature names, but RandomForestClassifier was fitted with feature names\n",
            "X does not have valid feature names, but RidgeClassifier was fitted with feature names\n"
          ]
        },
        {
          "data": {
            "application/vnd.plotly.v1+json": {
              "config": {
                "plotlyServerURL": "https://plot.ly"
              },
              "data": [
                {
                  "base": 0.1568144499178982,
                  "hoverinfo": "text",
                  "hoverlabel": {
                    "bgcolor": "rgba(0,0,0,0.8)"
                  },
                  "hovertext": [
                    "Model: GradientBoostingClassifier loss after<br>variable: caa is permuted: 0.24<br>Drop-out loss change: +0.083",
                    "Model: GradientBoostingClassifier loss after<br>variable: cp is permuted: 0.201<br>Drop-out loss change: +0.045",
                    "Model: GradientBoostingClassifier loss after<br>variable: thall is permuted: 0.179<br>Drop-out loss change: +0.022",
                    "Model: GradientBoostingClassifier loss after<br>variable: sex is permuted: 0.172<br>Drop-out loss change: +0.015",
                    "Model: GradientBoostingClassifier loss after<br>variable: oldpeak is permuted: 0.171<br>Drop-out loss change: +0.014",
                    "Model: GradientBoostingClassifier loss after<br>variable: slp is permuted: 0.167<br>Drop-out loss change: +0.01",
                    "Model: GradientBoostingClassifier loss after<br>variable: age is permuted: 0.164<br>Drop-out loss change: +0.008",
                    "Model: GradientBoostingClassifier loss after<br>variable: exng is permuted: 0.159<br>Drop-out loss change: +0.003",
                    "Model: GradientBoostingClassifier loss after<br>variable: fbs is permuted: 0.157<br>Drop-out loss change: +0.0",
                    "Model: GradientBoostingClassifier loss after<br>variable: thalachh is permuted: 0.157<br>Drop-out loss change: -0.0"
                  ],
                  "marker": {
                    "color": "#46bac2"
                  },
                  "orientation": "h",
                  "showlegend": false,
                  "text": [
                    "+0.083",
                    "+0.045",
                    "+0.022",
                    "+0.015",
                    "+0.014",
                    "+0.01",
                    "+0.008",
                    "+0.003",
                    "+0.0",
                    "0.0"
                  ],
                  "textposition": "outside",
                  "type": "bar",
                  "x": [
                    0.08279967159277504,
                    0.0446223316912972,
                    0.022372742200328394,
                    0.015394088669950762,
                    0.01371100164203612,
                    0.009811165845648645,
                    0.0075944170771757025,
                    0.0025862068965517293,
                    0.00016420361247948545,
                    -0.0001642036124794577
                  ],
                  "xaxis": "x",
                  "y": [
                    "caa",
                    "cp",
                    "thall",
                    "sex",
                    "oldpeak",
                    "slp",
                    "age",
                    "exng",
                    "fbs",
                    "thalachh"
                  ],
                  "yaxis": "y"
                }
              ],
              "layout": {
                "annotations": [
                  {
                    "font": {
                      "size": 16
                    },
                    "showarrow": false,
                    "text": "GradientBoostingClassifier",
                    "x": 0.5,
                    "xanchor": "center",
                    "xref": "paper",
                    "y": 1,
                    "yanchor": "bottom",
                    "yref": "paper"
                  },
                  {
                    "font": {
                      "size": 16
                    },
                    "showarrow": false,
                    "text": "drop-out loss",
                    "x": 0.5,
                    "xanchor": "center",
                    "xref": "paper",
                    "y": 0,
                    "yanchor": "top",
                    "yref": "paper",
                    "yshift": -30
                  }
                ],
                "autosize": false,
                "font": {
                  "color": "#371ea3"
                },
                "height": 450,
                "margin": {
                  "b": 71,
                  "r": 30,
                  "t": 78
                },
                "shapes": [
                  {
                    "line": {
                      "color": "#371ea3",
                      "dash": "dot",
                      "width": 1.5
                    },
                    "type": "line",
                    "x0": 0.1568144499178982,
                    "x1": 0.1568144499178982,
                    "xref": "x",
                    "y0": -1,
                    "y1": 10,
                    "yref": "y"
                  }
                ],
                "template": {
                  "data": {
                    "scatter": [
                      {
                        "type": "scatter"
                      }
                    ]
                  }
                },
                "title": {
                  "text": "Variable Importance",
                  "x": 0.15
                },
                "width": 600,
                "xaxis": {
                  "anchor": "y",
                  "automargin": true,
                  "domain": [
                    0,
                    1
                  ],
                  "fixedrange": true,
                  "gridwidth": 2,
                  "range": [
                    0.1417036124794745,
                    0.2523850574712644
                  ],
                  "tickcolor": "white",
                  "ticklen": 3,
                  "ticks": "outside",
                  "type": "linear",
                  "zeroline": false
                },
                "yaxis": {
                  "anchor": "x",
                  "automargin": true,
                  "autorange": "reversed",
                  "domain": [
                    0,
                    1
                  ],
                  "fixedrange": true,
                  "gridwidth": 2,
                  "tickcolor": "white",
                  "ticklen": 10,
                  "ticks": "outside",
                  "type": "category"
                }
              }
            }
          },
          "metadata": {},
          "output_type": "display_data"
        },
        {
          "data": {
            "application/vnd.plotly.v1+json": {
              "config": {
                "plotlyServerURL": "https://plot.ly"
              },
              "data": [
                {
                  "base": 0.14142036124794743,
                  "hoverinfo": "text",
                  "hoverlabel": {
                    "bgcolor": "rgba(0,0,0,0.8)"
                  },
                  "hovertext": [
                    "Model: RandomForestClassifier loss after<br>variable: caa is permuted: 0.187<br>Drop-out loss change: +0.045",
                    "Model: RandomForestClassifier loss after<br>variable: cp is permuted: 0.178<br>Drop-out loss change: +0.036",
                    "Model: RandomForestClassifier loss after<br>variable: thall is permuted: 0.174<br>Drop-out loss change: +0.032",
                    "Model: RandomForestClassifier loss after<br>variable: oldpeak is permuted: 0.162<br>Drop-out loss change: +0.021",
                    "Model: RandomForestClassifier loss after<br>variable: sex is permuted: 0.158<br>Drop-out loss change: +0.016",
                    "Model: RandomForestClassifier loss after<br>variable: age is permuted: 0.144<br>Drop-out loss change: +0.003",
                    "Model: RandomForestClassifier loss after<br>variable: restecg is permuted: 0.142<br>Drop-out loss change: +0.0",
                    "Model: RandomForestClassifier loss after<br>variable: exng is permuted: 0.141<br>Drop-out loss change: -0.001",
                    "Model: RandomForestClassifier loss after<br>variable: fbs is permuted: 0.14<br>Drop-out loss change: -0.001",
                    "Model: RandomForestClassifier loss after<br>variable: slp is permuted: 0.139<br>Drop-out loss change: -0.003"
                  ],
                  "marker": {
                    "color": "#46bac2"
                  },
                  "orientation": "h",
                  "showlegend": false,
                  "text": [
                    "+0.045",
                    "+0.036",
                    "+0.032",
                    "+0.021",
                    "+0.016",
                    "+0.003",
                    "+0.0",
                    "0.001",
                    "0.001",
                    "0.003"
                  ],
                  "textposition": "outside",
                  "type": "bar",
                  "x": [
                    0.04542282430213468,
                    0.03643267651888343,
                    0.032348111658456496,
                    0.020956486042692957,
                    0.016440886699507384,
                    0.0025451559934318857,
                    0.0002052545155993568,
                    -0.0008415435139573213,
                    -0.001272577996715929,
                    -0.002606732348111679
                  ],
                  "xaxis": "x",
                  "y": [
                    "caa",
                    "cp",
                    "thall",
                    "oldpeak",
                    "sex",
                    "age",
                    "restecg",
                    "exng",
                    "fbs",
                    "slp"
                  ],
                  "yaxis": "y"
                }
              ],
              "layout": {
                "annotations": [
                  {
                    "font": {
                      "size": 16
                    },
                    "showarrow": false,
                    "text": "RandomForestClassifier",
                    "x": 0.5,
                    "xanchor": "center",
                    "xref": "paper",
                    "y": 1,
                    "yanchor": "bottom",
                    "yref": "paper"
                  },
                  {
                    "font": {
                      "size": 16
                    },
                    "showarrow": false,
                    "text": "drop-out loss",
                    "x": 0.5,
                    "xanchor": "center",
                    "xref": "paper",
                    "y": 0,
                    "yanchor": "top",
                    "yref": "paper",
                    "yshift": -30
                  }
                ],
                "autosize": false,
                "font": {
                  "color": "#371ea3"
                },
                "height": 450,
                "margin": {
                  "b": 71,
                  "r": 30,
                  "t": 78
                },
                "shapes": [
                  {
                    "line": {
                      "color": "#371ea3",
                      "dash": "dot",
                      "width": 1.5
                    },
                    "type": "line",
                    "x0": 0.14142036124794743,
                    "x1": 0.14142036124794743,
                    "xref": "x",
                    "y0": -1,
                    "y1": 10,
                    "yref": "y"
                  }
                ],
                "template": {
                  "data": {
                    "scatter": [
                      {
                        "type": "scatter"
                      }
                    ]
                  }
                },
                "title": {
                  "text": "Variable Importance",
                  "x": 0.15
                },
                "width": 600,
                "xaxis": {
                  "anchor": "y",
                  "automargin": true,
                  "domain": [
                    0,
                    1
                  ],
                  "fixedrange": true,
                  "gridwidth": 2,
                  "range": [
                    0.11895730706075534,
                    0.1956978653530378
                  ],
                  "tickcolor": "white",
                  "ticklen": 3,
                  "ticks": "outside",
                  "type": "linear",
                  "zeroline": false
                },
                "yaxis": {
                  "anchor": "x",
                  "automargin": true,
                  "autorange": "reversed",
                  "domain": [
                    0,
                    1
                  ],
                  "fixedrange": true,
                  "gridwidth": 2,
                  "tickcolor": "white",
                  "ticklen": 10,
                  "ticks": "outside",
                  "type": "category"
                }
              }
            }
          },
          "metadata": {},
          "output_type": "display_data"
        },
        {
          "data": {
            "application/vnd.plotly.v1+json": {
              "config": {
                "plotlyServerURL": "https://plot.ly"
              },
              "data": [
                {
                  "base": 0.14757799671592772,
                  "hoverinfo": "text",
                  "hoverlabel": {
                    "bgcolor": "rgba(0,0,0,0.8)"
                  },
                  "hovertext": [
                    "Model: RandomForestClassifier loss after<br>variable: cp is permuted: 0.194<br>Drop-out loss change: +0.047",
                    "Model: RandomForestClassifier loss after<br>variable: caa is permuted: 0.181<br>Drop-out loss change: +0.033",
                    "Model: RandomForestClassifier loss after<br>variable: thall is permuted: 0.173<br>Drop-out loss change: +0.025",
                    "Model: RandomForestClassifier loss after<br>variable: oldpeak is permuted: 0.151<br>Drop-out loss change: +0.004",
                    "Model: RandomForestClassifier loss after<br>variable: sex is permuted: 0.151<br>Drop-out loss change: +0.004",
                    "Model: RandomForestClassifier loss after<br>variable: fbs is permuted: 0.149<br>Drop-out loss change: +0.001",
                    "Model: RandomForestClassifier loss after<br>variable: restecg is permuted: 0.149<br>Drop-out loss change: +0.001",
                    "Model: RandomForestClassifier loss after<br>variable: exng is permuted: 0.146<br>Drop-out loss change: -0.001",
                    "Model: RandomForestClassifier loss after<br>variable: chol is permuted: 0.146<br>Drop-out loss change: -0.002",
                    "Model: RandomForestClassifier loss after<br>variable: age is permuted: 0.145<br>Drop-out loss change: -0.003"
                  ],
                  "marker": {
                    "color": "#46bac2"
                  },
                  "orientation": "h",
                  "showlegend": false,
                  "text": [
                    "+0.047",
                    "+0.033",
                    "+0.025",
                    "+0.004",
                    "+0.004",
                    "+0.001",
                    "+0.001",
                    "0.001",
                    "0.002",
                    "0.003"
                  ],
                  "textposition": "outside",
                  "type": "bar",
                  "x": [
                    0.04669540229885058,
                    0.033066502463054204,
                    0.025041050903119894,
                    0.003756157635468077,
                    0.0037561576354680493,
                    0.001498357963875263,
                    0.0011904761904762418,
                    -0.0012520525451559517,
                    -0.0016420361247947712,
                    -0.002504105090311959
                  ],
                  "xaxis": "x",
                  "y": [
                    "cp",
                    "caa",
                    "thall",
                    "oldpeak",
                    "sex",
                    "fbs",
                    "restecg",
                    "exng",
                    "chol",
                    "age"
                  ],
                  "yaxis": "y"
                }
              ],
              "layout": {
                "annotations": [
                  {
                    "font": {
                      "size": 16
                    },
                    "showarrow": false,
                    "text": "RandomForestClassifier",
                    "x": 0.5,
                    "xanchor": "center",
                    "xref": "paper",
                    "y": 1,
                    "yanchor": "bottom",
                    "yref": "paper"
                  },
                  {
                    "font": {
                      "size": 16
                    },
                    "showarrow": false,
                    "text": "drop-out loss",
                    "x": 0.5,
                    "xanchor": "center",
                    "xref": "paper",
                    "y": 0,
                    "yanchor": "top",
                    "yref": "paper",
                    "yshift": -30
                  }
                ],
                "autosize": false,
                "font": {
                  "color": "#371ea3"
                },
                "height": 450,
                "margin": {
                  "b": 71,
                  "r": 30,
                  "t": 78
                },
                "shapes": [
                  {
                    "line": {
                      "color": "#371ea3",
                      "dash": "dot",
                      "width": 1.5
                    },
                    "type": "line",
                    "x0": 0.14757799671592772,
                    "x1": 0.14757799671592772,
                    "xref": "x",
                    "y0": -1,
                    "y1": 10,
                    "yref": "y"
                  }
                ],
                "template": {
                  "data": {
                    "scatter": [
                      {
                        "type": "scatter"
                      }
                    ]
                  }
                },
                "title": {
                  "text": "Variable Importance",
                  "x": 0.15
                },
                "width": 600,
                "xaxis": {
                  "anchor": "y",
                  "automargin": true,
                  "domain": [
                    0,
                    1
                  ],
                  "fixedrange": true,
                  "gridwidth": 2,
                  "range": [
                    0.12537253694581282,
                    0.20326046798029554
                  ],
                  "tickcolor": "white",
                  "ticklen": 3,
                  "ticks": "outside",
                  "type": "linear",
                  "zeroline": false
                },
                "yaxis": {
                  "anchor": "x",
                  "automargin": true,
                  "autorange": "reversed",
                  "domain": [
                    0,
                    1
                  ],
                  "fixedrange": true,
                  "gridwidth": 2,
                  "tickcolor": "white",
                  "ticklen": 10,
                  "ticks": "outside",
                  "type": "category"
                }
              }
            }
          },
          "metadata": {},
          "output_type": "display_data"
        },
        {
          "data": {
            "application/vnd.plotly.v1+json": {
              "config": {
                "plotlyServerURL": "https://plot.ly"
              },
              "data": [
                {
                  "base": 0.2594417077175698,
                  "hoverinfo": "text",
                  "hoverlabel": {
                    "bgcolor": "rgba(0,0,0,0.8)"
                  },
                  "hovertext": [
                    "Model: RidgeClassifier loss after<br>variable: sex is permuted: 0.289<br>Drop-out loss change: +0.029",
                    "Model: RidgeClassifier loss after<br>variable: caa is permuted: 0.279<br>Drop-out loss change: +0.019",
                    "Model: RidgeClassifier loss after<br>variable: thall is permuted: 0.276<br>Drop-out loss change: +0.017",
                    "Model: RidgeClassifier loss after<br>variable: cp is permuted: 0.264<br>Drop-out loss change: +0.004",
                    "Model: RidgeClassifier loss after<br>variable: exng is permuted: 0.264<br>Drop-out loss change: +0.004",
                    "Model: RidgeClassifier loss after<br>variable: oldpeak is permuted: 0.263<br>Drop-out loss change: +0.004",
                    "Model: RidgeClassifier loss after<br>variable: fbs is permuted: 0.262<br>Drop-out loss change: +0.003",
                    "Model: RidgeClassifier loss after<br>variable: age is permuted: 0.259<br>Drop-out loss change: -0.0",
                    "Model: RidgeClassifier loss after<br>variable: chol is permuted: 0.255<br>Drop-out loss change: -0.005",
                    "Model: RidgeClassifier loss after<br>variable: trtbps is permuted: 0.248<br>Drop-out loss change: -0.011"
                  ],
                  "marker": {
                    "color": "#46bac2"
                  },
                  "orientation": "h",
                  "showlegend": false,
                  "text": [
                    "+0.029",
                    "+0.019",
                    "+0.017",
                    "+0.004",
                    "+0.004",
                    "+0.004",
                    "+0.003",
                    "0.0",
                    "0.005",
                    "0.011"
                  ],
                  "textposition": "outside",
                  "type": "bar",
                  "x": [
                    0.029228243021346523,
                    0.019088669950738935,
                    0.01695402298850579,
                    0.0042692939244664,
                    0.0042282430213465005,
                    0.003530377668308715,
                    0.0025041050903120143,
                    0,
                    -0.004844006568144488,
                    -0.010960591133004904
                  ],
                  "xaxis": "x",
                  "y": [
                    "sex",
                    "caa",
                    "thall",
                    "cp",
                    "exng",
                    "oldpeak",
                    "fbs",
                    "age",
                    "chol",
                    "trtbps"
                  ],
                  "yaxis": "y"
                }
              ],
              "layout": {
                "annotations": [
                  {
                    "font": {
                      "size": 16
                    },
                    "showarrow": false,
                    "text": "RidgeClassifier",
                    "x": 0.5,
                    "xanchor": "center",
                    "xref": "paper",
                    "y": 1,
                    "yanchor": "bottom",
                    "yref": "paper"
                  },
                  {
                    "font": {
                      "size": 16
                    },
                    "showarrow": false,
                    "text": "drop-out loss",
                    "x": 0.5,
                    "xanchor": "center",
                    "xref": "paper",
                    "y": 0,
                    "yanchor": "top",
                    "yref": "paper",
                    "yshift": -30
                  }
                ],
                "autosize": false,
                "font": {
                  "color": "#371ea3"
                },
                "height": 450,
                "margin": {
                  "b": 71,
                  "r": 30,
                  "t": 78
                },
                "shapes": [
                  {
                    "line": {
                      "color": "#371ea3",
                      "dash": "dot",
                      "width": 1.5
                    },
                    "type": "line",
                    "x0": 0.2594417077175698,
                    "x1": 0.2594417077175698,
                    "xref": "x",
                    "y0": -1,
                    "y1": 10,
                    "yref": "y"
                  }
                ],
                "template": {
                  "data": {
                    "scatter": [
                      {
                        "type": "scatter"
                      }
                    ]
                  }
                },
                "title": {
                  "text": "Variable Importance",
                  "x": 0.15
                },
                "width": 600,
                "xaxis": {
                  "anchor": "y",
                  "automargin": true,
                  "domain": [
                    0,
                    1
                  ],
                  "fixedrange": true,
                  "gridwidth": 2,
                  "range": [
                    0.22356937602627258,
                    0.29716133004926115
                  ],
                  "tickcolor": "white",
                  "ticklen": 3,
                  "ticks": "outside",
                  "type": "linear",
                  "zeroline": false
                },
                "yaxis": {
                  "anchor": "x",
                  "automargin": true,
                  "autorange": "reversed",
                  "domain": [
                    0,
                    1
                  ],
                  "fixedrange": true,
                  "gridwidth": 2,
                  "tickcolor": "white",
                  "ticklen": 10,
                  "ticks": "outside",
                  "type": "category"
                }
              }
            }
          },
          "metadata": {},
          "output_type": "display_data"
        },
        {
          "data": {
            "application/vnd.plotly.v1+json": {
              "config": {
                "plotlyServerURL": "https://plot.ly"
              },
              "data": [
                {
                  "alignmentgroup": "True",
                  "hovertemplate": "importance=%{x}<br>feature=%{y}<extra></extra>",
                  "legendgroup": "",
                  "marker": {
                    "color": "#636efa",
                    "pattern": {
                      "shape": ""
                    }
                  },
                  "name": "",
                  "offsetgroup": "",
                  "orientation": "h",
                  "showlegend": false,
                  "textposition": "auto",
                  "type": "bar",
                  "x": [
                    0.008583435046313767,
                    0.01729415954638462,
                    0.03616909087228709,
                    0.049635145801750505,
                    0.06331905504842923,
                    0.06599899283523342,
                    0.07325515348400792,
                    0.08204447669910671,
                    0.08964292886682619,
                    0.09180948302003529,
                    0.11392578591310626,
                    0.14095752725290678,
                    0.16736476561361216
                  ],
                  "xaxis": "x",
                  "y": [
                    "fbs",
                    "restecg",
                    "sex",
                    "exng",
                    "trtbps",
                    "chol",
                    "slp",
                    "thall",
                    "age",
                    "caa",
                    "oldpeak",
                    "cp",
                    "thalachh"
                  ],
                  "yaxis": "y"
                }
              ],
              "layout": {
                "barmode": "relative",
                "legend": {
                  "tracegroupgap": 0
                },
                "margin": {
                  "t": 60
                },
                "template": {
                  "data": {
                    "bar": [
                      {
                        "error_x": {
                          "color": "#2a3f5f"
                        },
                        "error_y": {
                          "color": "#2a3f5f"
                        },
                        "marker": {
                          "line": {
                            "color": "#E5ECF6",
                            "width": 0.5
                          },
                          "pattern": {
                            "fillmode": "overlay",
                            "size": 10,
                            "solidity": 0.2
                          }
                        },
                        "type": "bar"
                      }
                    ],
                    "barpolar": [
                      {
                        "marker": {
                          "line": {
                            "color": "#E5ECF6",
                            "width": 0.5
                          },
                          "pattern": {
                            "fillmode": "overlay",
                            "size": 10,
                            "solidity": 0.2
                          }
                        },
                        "type": "barpolar"
                      }
                    ],
                    "carpet": [
                      {
                        "aaxis": {
                          "endlinecolor": "#2a3f5f",
                          "gridcolor": "white",
                          "linecolor": "white",
                          "minorgridcolor": "white",
                          "startlinecolor": "#2a3f5f"
                        },
                        "baxis": {
                          "endlinecolor": "#2a3f5f",
                          "gridcolor": "white",
                          "linecolor": "white",
                          "minorgridcolor": "white",
                          "startlinecolor": "#2a3f5f"
                        },
                        "type": "carpet"
                      }
                    ],
                    "choropleth": [
                      {
                        "colorbar": {
                          "outlinewidth": 0,
                          "ticks": ""
                        },
                        "type": "choropleth"
                      }
                    ],
                    "contour": [
                      {
                        "colorbar": {
                          "outlinewidth": 0,
                          "ticks": ""
                        },
                        "colorscale": [
                          [
                            0,
                            "#0d0887"
                          ],
                          [
                            0.1111111111111111,
                            "#46039f"
                          ],
                          [
                            0.2222222222222222,
                            "#7201a8"
                          ],
                          [
                            0.3333333333333333,
                            "#9c179e"
                          ],
                          [
                            0.4444444444444444,
                            "#bd3786"
                          ],
                          [
                            0.5555555555555556,
                            "#d8576b"
                          ],
                          [
                            0.6666666666666666,
                            "#ed7953"
                          ],
                          [
                            0.7777777777777778,
                            "#fb9f3a"
                          ],
                          [
                            0.8888888888888888,
                            "#fdca26"
                          ],
                          [
                            1,
                            "#f0f921"
                          ]
                        ],
                        "type": "contour"
                      }
                    ],
                    "contourcarpet": [
                      {
                        "colorbar": {
                          "outlinewidth": 0,
                          "ticks": ""
                        },
                        "type": "contourcarpet"
                      }
                    ],
                    "heatmap": [
                      {
                        "colorbar": {
                          "outlinewidth": 0,
                          "ticks": ""
                        },
                        "colorscale": [
                          [
                            0,
                            "#0d0887"
                          ],
                          [
                            0.1111111111111111,
                            "#46039f"
                          ],
                          [
                            0.2222222222222222,
                            "#7201a8"
                          ],
                          [
                            0.3333333333333333,
                            "#9c179e"
                          ],
                          [
                            0.4444444444444444,
                            "#bd3786"
                          ],
                          [
                            0.5555555555555556,
                            "#d8576b"
                          ],
                          [
                            0.6666666666666666,
                            "#ed7953"
                          ],
                          [
                            0.7777777777777778,
                            "#fb9f3a"
                          ],
                          [
                            0.8888888888888888,
                            "#fdca26"
                          ],
                          [
                            1,
                            "#f0f921"
                          ]
                        ],
                        "type": "heatmap"
                      }
                    ],
                    "heatmapgl": [
                      {
                        "colorbar": {
                          "outlinewidth": 0,
                          "ticks": ""
                        },
                        "colorscale": [
                          [
                            0,
                            "#0d0887"
                          ],
                          [
                            0.1111111111111111,
                            "#46039f"
                          ],
                          [
                            0.2222222222222222,
                            "#7201a8"
                          ],
                          [
                            0.3333333333333333,
                            "#9c179e"
                          ],
                          [
                            0.4444444444444444,
                            "#bd3786"
                          ],
                          [
                            0.5555555555555556,
                            "#d8576b"
                          ],
                          [
                            0.6666666666666666,
                            "#ed7953"
                          ],
                          [
                            0.7777777777777778,
                            "#fb9f3a"
                          ],
                          [
                            0.8888888888888888,
                            "#fdca26"
                          ],
                          [
                            1,
                            "#f0f921"
                          ]
                        ],
                        "type": "heatmapgl"
                      }
                    ],
                    "histogram": [
                      {
                        "marker": {
                          "pattern": {
                            "fillmode": "overlay",
                            "size": 10,
                            "solidity": 0.2
                          }
                        },
                        "type": "histogram"
                      }
                    ],
                    "histogram2d": [
                      {
                        "colorbar": {
                          "outlinewidth": 0,
                          "ticks": ""
                        },
                        "colorscale": [
                          [
                            0,
                            "#0d0887"
                          ],
                          [
                            0.1111111111111111,
                            "#46039f"
                          ],
                          [
                            0.2222222222222222,
                            "#7201a8"
                          ],
                          [
                            0.3333333333333333,
                            "#9c179e"
                          ],
                          [
                            0.4444444444444444,
                            "#bd3786"
                          ],
                          [
                            0.5555555555555556,
                            "#d8576b"
                          ],
                          [
                            0.6666666666666666,
                            "#ed7953"
                          ],
                          [
                            0.7777777777777778,
                            "#fb9f3a"
                          ],
                          [
                            0.8888888888888888,
                            "#fdca26"
                          ],
                          [
                            1,
                            "#f0f921"
                          ]
                        ],
                        "type": "histogram2d"
                      }
                    ],
                    "histogram2dcontour": [
                      {
                        "colorbar": {
                          "outlinewidth": 0,
                          "ticks": ""
                        },
                        "colorscale": [
                          [
                            0,
                            "#0d0887"
                          ],
                          [
                            0.1111111111111111,
                            "#46039f"
                          ],
                          [
                            0.2222222222222222,
                            "#7201a8"
                          ],
                          [
                            0.3333333333333333,
                            "#9c179e"
                          ],
                          [
                            0.4444444444444444,
                            "#bd3786"
                          ],
                          [
                            0.5555555555555556,
                            "#d8576b"
                          ],
                          [
                            0.6666666666666666,
                            "#ed7953"
                          ],
                          [
                            0.7777777777777778,
                            "#fb9f3a"
                          ],
                          [
                            0.8888888888888888,
                            "#fdca26"
                          ],
                          [
                            1,
                            "#f0f921"
                          ]
                        ],
                        "type": "histogram2dcontour"
                      }
                    ],
                    "mesh3d": [
                      {
                        "colorbar": {
                          "outlinewidth": 0,
                          "ticks": ""
                        },
                        "type": "mesh3d"
                      }
                    ],
                    "parcoords": [
                      {
                        "line": {
                          "colorbar": {
                            "outlinewidth": 0,
                            "ticks": ""
                          }
                        },
                        "type": "parcoords"
                      }
                    ],
                    "pie": [
                      {
                        "automargin": true,
                        "type": "pie"
                      }
                    ],
                    "scatter": [
                      {
                        "fillpattern": {
                          "fillmode": "overlay",
                          "size": 10,
                          "solidity": 0.2
                        },
                        "type": "scatter"
                      }
                    ],
                    "scatter3d": [
                      {
                        "line": {
                          "colorbar": {
                            "outlinewidth": 0,
                            "ticks": ""
                          }
                        },
                        "marker": {
                          "colorbar": {
                            "outlinewidth": 0,
                            "ticks": ""
                          }
                        },
                        "type": "scatter3d"
                      }
                    ],
                    "scattercarpet": [
                      {
                        "marker": {
                          "colorbar": {
                            "outlinewidth": 0,
                            "ticks": ""
                          }
                        },
                        "type": "scattercarpet"
                      }
                    ],
                    "scattergeo": [
                      {
                        "marker": {
                          "colorbar": {
                            "outlinewidth": 0,
                            "ticks": ""
                          }
                        },
                        "type": "scattergeo"
                      }
                    ],
                    "scattergl": [
                      {
                        "marker": {
                          "colorbar": {
                            "outlinewidth": 0,
                            "ticks": ""
                          }
                        },
                        "type": "scattergl"
                      }
                    ],
                    "scattermapbox": [
                      {
                        "marker": {
                          "colorbar": {
                            "outlinewidth": 0,
                            "ticks": ""
                          }
                        },
                        "type": "scattermapbox"
                      }
                    ],
                    "scatterpolar": [
                      {
                        "marker": {
                          "colorbar": {
                            "outlinewidth": 0,
                            "ticks": ""
                          }
                        },
                        "type": "scatterpolar"
                      }
                    ],
                    "scatterpolargl": [
                      {
                        "marker": {
                          "colorbar": {
                            "outlinewidth": 0,
                            "ticks": ""
                          }
                        },
                        "type": "scatterpolargl"
                      }
                    ],
                    "scatterternary": [
                      {
                        "marker": {
                          "colorbar": {
                            "outlinewidth": 0,
                            "ticks": ""
                          }
                        },
                        "type": "scatterternary"
                      }
                    ],
                    "surface": [
                      {
                        "colorbar": {
                          "outlinewidth": 0,
                          "ticks": ""
                        },
                        "colorscale": [
                          [
                            0,
                            "#0d0887"
                          ],
                          [
                            0.1111111111111111,
                            "#46039f"
                          ],
                          [
                            0.2222222222222222,
                            "#7201a8"
                          ],
                          [
                            0.3333333333333333,
                            "#9c179e"
                          ],
                          [
                            0.4444444444444444,
                            "#bd3786"
                          ],
                          [
                            0.5555555555555556,
                            "#d8576b"
                          ],
                          [
                            0.6666666666666666,
                            "#ed7953"
                          ],
                          [
                            0.7777777777777778,
                            "#fb9f3a"
                          ],
                          [
                            0.8888888888888888,
                            "#fdca26"
                          ],
                          [
                            1,
                            "#f0f921"
                          ]
                        ],
                        "type": "surface"
                      }
                    ],
                    "table": [
                      {
                        "cells": {
                          "fill": {
                            "color": "#EBF0F8"
                          },
                          "line": {
                            "color": "white"
                          }
                        },
                        "header": {
                          "fill": {
                            "color": "#C8D4E3"
                          },
                          "line": {
                            "color": "white"
                          }
                        },
                        "type": "table"
                      }
                    ]
                  },
                  "layout": {
                    "annotationdefaults": {
                      "arrowcolor": "#2a3f5f",
                      "arrowhead": 0,
                      "arrowwidth": 1
                    },
                    "autotypenumbers": "strict",
                    "coloraxis": {
                      "colorbar": {
                        "outlinewidth": 0,
                        "ticks": ""
                      }
                    },
                    "colorscale": {
                      "diverging": [
                        [
                          0,
                          "#8e0152"
                        ],
                        [
                          0.1,
                          "#c51b7d"
                        ],
                        [
                          0.2,
                          "#de77ae"
                        ],
                        [
                          0.3,
                          "#f1b6da"
                        ],
                        [
                          0.4,
                          "#fde0ef"
                        ],
                        [
                          0.5,
                          "#f7f7f7"
                        ],
                        [
                          0.6,
                          "#e6f5d0"
                        ],
                        [
                          0.7,
                          "#b8e186"
                        ],
                        [
                          0.8,
                          "#7fbc41"
                        ],
                        [
                          0.9,
                          "#4d9221"
                        ],
                        [
                          1,
                          "#276419"
                        ]
                      ],
                      "sequential": [
                        [
                          0,
                          "#0d0887"
                        ],
                        [
                          0.1111111111111111,
                          "#46039f"
                        ],
                        [
                          0.2222222222222222,
                          "#7201a8"
                        ],
                        [
                          0.3333333333333333,
                          "#9c179e"
                        ],
                        [
                          0.4444444444444444,
                          "#bd3786"
                        ],
                        [
                          0.5555555555555556,
                          "#d8576b"
                        ],
                        [
                          0.6666666666666666,
                          "#ed7953"
                        ],
                        [
                          0.7777777777777778,
                          "#fb9f3a"
                        ],
                        [
                          0.8888888888888888,
                          "#fdca26"
                        ],
                        [
                          1,
                          "#f0f921"
                        ]
                      ],
                      "sequentialminus": [
                        [
                          0,
                          "#0d0887"
                        ],
                        [
                          0.1111111111111111,
                          "#46039f"
                        ],
                        [
                          0.2222222222222222,
                          "#7201a8"
                        ],
                        [
                          0.3333333333333333,
                          "#9c179e"
                        ],
                        [
                          0.4444444444444444,
                          "#bd3786"
                        ],
                        [
                          0.5555555555555556,
                          "#d8576b"
                        ],
                        [
                          0.6666666666666666,
                          "#ed7953"
                        ],
                        [
                          0.7777777777777778,
                          "#fb9f3a"
                        ],
                        [
                          0.8888888888888888,
                          "#fdca26"
                        ],
                        [
                          1,
                          "#f0f921"
                        ]
                      ]
                    },
                    "colorway": [
                      "#636efa",
                      "#EF553B",
                      "#00cc96",
                      "#ab63fa",
                      "#FFA15A",
                      "#19d3f3",
                      "#FF6692",
                      "#B6E880",
                      "#FF97FF",
                      "#FECB52"
                    ],
                    "font": {
                      "color": "#2a3f5f"
                    },
                    "geo": {
                      "bgcolor": "white",
                      "lakecolor": "white",
                      "landcolor": "#E5ECF6",
                      "showlakes": true,
                      "showland": true,
                      "subunitcolor": "white"
                    },
                    "hoverlabel": {
                      "align": "left"
                    },
                    "hovermode": "closest",
                    "mapbox": {
                      "style": "light"
                    },
                    "paper_bgcolor": "white",
                    "plot_bgcolor": "#E5ECF6",
                    "polar": {
                      "angularaxis": {
                        "gridcolor": "white",
                        "linecolor": "white",
                        "ticks": ""
                      },
                      "bgcolor": "#E5ECF6",
                      "radialaxis": {
                        "gridcolor": "white",
                        "linecolor": "white",
                        "ticks": ""
                      }
                    },
                    "scene": {
                      "xaxis": {
                        "backgroundcolor": "#E5ECF6",
                        "gridcolor": "white",
                        "gridwidth": 2,
                        "linecolor": "white",
                        "showbackground": true,
                        "ticks": "",
                        "zerolinecolor": "white"
                      },
                      "yaxis": {
                        "backgroundcolor": "#E5ECF6",
                        "gridcolor": "white",
                        "gridwidth": 2,
                        "linecolor": "white",
                        "showbackground": true,
                        "ticks": "",
                        "zerolinecolor": "white"
                      },
                      "zaxis": {
                        "backgroundcolor": "#E5ECF6",
                        "gridcolor": "white",
                        "gridwidth": 2,
                        "linecolor": "white",
                        "showbackground": true,
                        "ticks": "",
                        "zerolinecolor": "white"
                      }
                    },
                    "shapedefaults": {
                      "line": {
                        "color": "#2a3f5f"
                      }
                    },
                    "ternary": {
                      "aaxis": {
                        "gridcolor": "white",
                        "linecolor": "white",
                        "ticks": ""
                      },
                      "baxis": {
                        "gridcolor": "white",
                        "linecolor": "white",
                        "ticks": ""
                      },
                      "bgcolor": "#E5ECF6",
                      "caxis": {
                        "gridcolor": "white",
                        "linecolor": "white",
                        "ticks": ""
                      }
                    },
                    "title": {
                      "x": 0.05
                    },
                    "xaxis": {
                      "automargin": true,
                      "gridcolor": "white",
                      "linecolor": "white",
                      "ticks": "",
                      "title": {
                        "standoff": 15
                      },
                      "zerolinecolor": "white",
                      "zerolinewidth": 2
                    },
                    "yaxis": {
                      "automargin": true,
                      "gridcolor": "white",
                      "linecolor": "white",
                      "ticks": "",
                      "title": {
                        "standoff": 15
                      },
                      "zerolinecolor": "white",
                      "zerolinewidth": 2
                    }
                  }
                },
                "xaxis": {
                  "anchor": "y",
                  "domain": [
                    0,
                    1
                  ],
                  "title": {
                    "text": "importance"
                  }
                },
                "yaxis": {
                  "anchor": "x",
                  "domain": [
                    0,
                    1
                  ],
                  "title": {
                    "text": "feature"
                  }
                }
              }
            }
          },
          "metadata": {},
          "output_type": "display_data"
        }
      ],
      "source": [
        "import numpy as np\n",
        "import pandas as pd\n",
        "import plotly.express as px\n",
        "import sklearn\n",
        "from sklearn.ensemble import RandomForestClassifier, GradientBoostingClassifier\n",
        "from sklearn.linear_model import RidgeClassifier\n",
        "from sklearn.model_selection import train_test_split\n",
        "from sklearn.inspection import permutation_importance\n",
        "import dalex\n",
        "import shap\n",
        "\n",
        "df = pd.read_csv(\"heart.csv\")\n",
        "X = df.iloc[:, :13]\n",
        "y = df.iloc[:, 13]\n",
        "X_train, X_test, y_train, y_test = train_test_split(X, y, test_size=0.33)\n",
        "\n",
        "grad_model = GradientBoostingClassifier().fit(X_train, y_train)\n",
        "forest_model = RandomForestClassifier().fit(X_train, y_train)\n",
        "forest_model_2 = RandomForestClassifier(n_estimators=20).fit(X_train, y_train)\n",
        "lr_model = RidgeClassifier().fit(X_train, y_train)\n",
        "\n",
        "grad_explainer = dalex.Explainer(grad_model, X_test, y_test)\n",
        "forest_explainer = dalex.Explainer(forest_model, X_test, y_test)\n",
        "forest_2_explainer = dalex.Explainer(forest_model_2, X_test, y_test)\n",
        "lr_explainer = dalex.Explainer(lr_model, X_test, y_test)\n",
        "\n",
        "explainers = [grad_explainer, forest_explainer, forest_2_explainer, lr_explainer]\n",
        "\n",
        "def plot_p_var_imp(expl):\n",
        "  parts = expl.model_parts(random_state=0)\n",
        "  fig = parts.plot(show=False).update_layout(autosize=False, width=600, height=450)\n",
        "  fig.show()\n",
        "\n",
        "col_names = X_train.columns.values\n",
        "\n",
        "def plot_var_imp(model):\n",
        "  imp = model.feature_importances_\n",
        "  plot_df = pd.DataFrame({'feature': col_names, 'importance': imp})\n",
        "  plot_df = plot_df.sort_values(by='importance')\n",
        "  fig = px.bar(plot_df, y='feature', x='importance')\n",
        "  fig.show()\n",
        "\n",
        "def plot_shap_var_imp(model):\n",
        "    shap_explainer = shap.explainers.Tree(model, X_test, model_output='probability')\n",
        "    shap_explainer = shap_explainer(X_test)[..., 1]\n",
        "    shap.plots.bar(shap_explainer)\n",
        "\n",
        "plot_p_var_imp(grad_explainer)\n",
        "plot_p_var_imp(forest_explainer)\n",
        "plot_p_var_imp(forest_2_explainer)\n",
        "plot_p_var_imp(lr_explainer)\n",
        "\n",
        "plot_var_imp(forest_model)"
      ]
    }
  ],
  "metadata": {
    "colab": {
      "provenance": []
    },
    "kernelspec": {
      "display_name": "Python 3",
      "language": "python",
      "name": "python3"
    },
    "language_info": {
      "codemirror_mode": {
        "name": "ipython",
        "version": 3
      },
      "file_extension": ".py",
      "mimetype": "text/x-python",
      "name": "python",
      "nbconvert_exporter": "python",
      "pygments_lexer": "ipython3",
      "version": "3.10.6"
    },
    "vscode": {
      "interpreter": {
        "hash": "916dbcbb3f70747c44a77c7bcd40155683ae19c65e1c03b4aa3499c5328201f1"
      }
    }
  },
  "nbformat": 4,
  "nbformat_minor": 0
}
